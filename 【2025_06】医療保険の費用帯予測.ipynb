{
  "nbformat": 4,
  "nbformat_minor": 0,
  "metadata": {
    "colab": {
      "provenance": [],
      "authorship_tag": "ABX9TyMkI7cKeKofkJ7JDziAaMT5",
      "include_colab_link": true
    },
    "kernelspec": {
      "name": "python3",
      "display_name": "Python 3"
    },
    "language_info": {
      "name": "python"
    }
  },
  "cells": [
    {
      "cell_type": "markdown",
      "metadata": {
        "id": "view-in-github",
        "colab_type": "text"
      },
      "source": [
        "<a href=\"https://colab.research.google.com/github/koseki3104/ajax_app_rails7/blob/master/%E3%80%902025_06%E3%80%91%E5%8C%BB%E7%99%82%E4%BF%9D%E9%99%BA%E3%81%AE%E8%B2%BB%E7%94%A8%E5%B8%AF%E4%BA%88%E6%B8%AC.ipynb\" target=\"_parent\"><img src=\"https://colab.research.google.com/assets/colab-badge.svg\" alt=\"Open In Colab\"/></a>"
      ]
    },
    {
      "cell_type": "code",
      "execution_count": null,
      "metadata": {
        "colab": {
          "base_uri": "https://localhost:8080/"
        },
        "id": "grNuyIhNjw5c",
        "outputId": "7b53aead-b192-4153-dba9-7dc5e83f3b24"
      },
      "outputs": [
        {
          "output_type": "stream",
          "name": "stdout",
          "text": [
            "Mounted at /content/drive\n"
          ]
        }
      ],
      "source": [
        "from google.colab import drive\n",
        "drive.mount('/content/drive')"
      ]
    },
    {
      "cell_type": "code",
      "source": [
        "import os\n",
        "os.chdir('/content/drive/MyDrive/SIGNATE/【2025.06】医療保険の費用帯予測')"
      ],
      "metadata": {
        "id": "CRU1G5aNkPYQ"
      },
      "execution_count": null,
      "outputs": []
    },
    {
      "cell_type": "code",
      "source": [
        "import pandas as pd\n",
        "test = pd.read_csv(\"test.csv\")\n",
        "print(test.info())"
      ],
      "metadata": {
        "colab": {
          "base_uri": "https://localhost:8080/"
        },
        "id": "nlQd-g-AkgCN",
        "outputId": "0e82fb03-1dd5-41dd-9a53-cb51da5d846a"
      },
      "execution_count": null,
      "outputs": [
        {
          "output_type": "stream",
          "name": "stdout",
          "text": [
            "<class 'pandas.core.frame.DataFrame'>\n",
            "RangeIndex: 400 entries, 0 to 399\n",
            "Data columns (total 7 columns):\n",
            " #   Column    Non-Null Count  Dtype  \n",
            "---  ------    --------------  -----  \n",
            " 0   id        400 non-null    int64  \n",
            " 1   age       400 non-null    int64  \n",
            " 2   sex       400 non-null    object \n",
            " 3   bmi       400 non-null    float64\n",
            " 4   children  400 non-null    int64  \n",
            " 5   smoker    400 non-null    object \n",
            " 6   region    400 non-null    object \n",
            "dtypes: float64(1), int64(3), object(3)\n",
            "memory usage: 22.0+ KB\n",
            "None\n"
          ]
        }
      ]
    }
  ]
}